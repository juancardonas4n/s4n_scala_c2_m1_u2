{
 "cells": [
  {
   "cell_type": "markdown",
   "metadata": {},
   "source": [
    "# Recursividad de cola\n",
    "\n",
    "## Función de `potencia`\n",
    "\n",
    "Esta es nuestra conocida implementación de la función de potencia recursiva `potenciaRec`:"
   ]
  },
  {
   "cell_type": "code",
   "execution_count": null,
   "metadata": {},
   "outputs": [],
   "source": [
    "def potenciaRec(a:Double, n:Int):Double = n match {\n",
    "    case 0 => 1\n",
    "    case n => a * potenciaRec(a, n - 1)\n",
    "}\n",
    "\n",
    "potenciaRec(2,3)"
   ]
  },
  {
   "cell_type": "markdown",
   "metadata": {},
   "source": [
    "Pero, sabemos que esta implementación no es la más efectiva, por que si la comparamos con la versión `potenciaIt`, que se muestra a continuación sus tiempo de ejecución no son los más deseables proporcionalmente con respecto a los tiempo de `potenciaIt`."
   ]
  },
  {
   "cell_type": "code",
   "execution_count": null,
   "metadata": {},
   "outputs": [],
   "source": [
    "def potenciaIt(a:Double, n:Int) = {\n",
    "    var i = 0\n",
    "    var res = 1.0\n",
    "    while (i < n) {\n",
    "        res *= a\n",
    "        i += 1\n",
    "    }\n",
    "    res\n",
    "}\n",
    "\n",
    "val tInicioRec = System.nanoTime\n",
    "potenciaRec(2,3)\n",
    "val totalTiempoRec = System.nanoTime - tInicioRec\n",
    "println(s\"Tiempo ejecución de potenciaRec(2,3) $totalTiempoRec\")\n",
    "val tInicioIt = System.nanoTime\n",
    "potenciaIt(2,3)\n",
    "val totalTiempoIt = System.nanoTime - tInicioIt\n",
    "println(s\"Tiempo ejecución de potenciaIt(2,3) $totalTiempoIt\")\n",
    "val tiempoPorcentual = totalTiempoRec.toDouble / totalTiempoIt.toDouble\n",
    "println(s\"incremento porcentual $tiempoPorcentual\")"
   ]
  },
  {
   "cell_type": "markdown",
   "metadata": {},
   "source": [
    "Observemos que el cambio porcentual es muy alto, un valor entre el 20% y 70% más que el tiempo de ejecución de la función iteractiva, y que a medida se incremente el valor de `n` estos valores se incrementan mucho más.\n",
    "\n",
    "Pero tenemos una manera de manejar esto, que son las funciones con recursividad de cola. Recordemos que son aquellas funciones que se comportan de forma recursiva, pero la recursividad es lo último que se llama.\n",
    "\n",
    "Entonces, vamos a implementar la función recursiva, con recursividad de cola para la función de potencia, llamada:  `potenciaRecCola`:\n",
    "\n",
    "```{.scala}\n",
    "def potenciaRecCola(a:Double, n:Int):Double = ???\n",
    "```\n",
    "\n",
    "Recuerde, implementar esta función `potenciaRecCola` utilizando un función inmersa que ayude a computar el valor de potencia pasando un argumento como un acumulador."
   ]
  },
  {
   "cell_type": "code",
   "execution_count": null,
   "metadata": {},
   "outputs": [],
   "source": [
    "def potenciaRecCola(a:Double, n:Int) = ???"
   ]
  },
  {
   "cell_type": "markdown",
   "metadata": {},
   "source": [
    "Una vez definida esta función vamos a implementer una versión que compare la versión recursiva de cola con la versión de recursiva de cola. Esta función se llamará `compararRecColaIt` y tiene la siguiente firma:\n",
    "\n",
    "```{.scala}\n",
    "def compararPotenciaRecColaIt(a:Double, n:Int):Double = ???\n",
    "```\n",
    "\n",
    "Esta función se encarga comparar el cambio porcentual entre la función `potenciaRecCola` con la versión iteractiva de potencia (`potenciaIt`)."
   ]
  },
  {
   "cell_type": "code",
   "execution_count": null,
   "metadata": {},
   "outputs": [],
   "source": [
    "def compararPotenciaRecColaIt(a:Double, n:Int):Double = ???"
   ]
  },
  {
   "cell_type": "markdown",
   "metadata": {},
   "source": [
    "Al implementar la función se obtiene un valor de comparación, por favor verifique con diferentes valores de `a` y `n` la diferencias porcentuales, y compárelas con lo obtenido en notebook anterior.\n",
    "\n",
    "1. ¿El porcentaje de cambio es menor o mayor?\n",
    "2. ¿Qué significa dicho cambio, es positivo o negativo?\n",
    "\n",
    "## Función de sucesión de Finobacci\n",
    "\n",
    "La función de [sucesión de Finobacci](https://es.wikipedia.org/wiki/Sucesi%C3%B3n_de_Fibonacci) es un función que permite calcular el valor específico de una sucesión. Así que para el valor `0` el valor es `0`, para el valor `1` es `1` y luego para el valor de `2` es la suma de los dos valores anteriores cuyo resultado es `1`, luego para `3` es la suma de los dos anteriores `2` y así.\n",
    "\n",
    "Se obtendría la [sucesión de Finobacci](https://es.wikipedia.org/wiki/Sucesi%C3%B3n_de_Fibonacci) así:\n",
    "\n",
    "```{.shell}\n",
    "0,1,1,2,3,5,8,13,21,...\n",
    "```\n",
    "\n",
    "Haremos una primera implementación iteractiva. **Nota:** esta es una versión que no haremos más en el curso puesto que lo que queremos es hacer programación funcional y utilizar todas las ventajas de esta. Y por lo tanto, utilizaremos esta implementación como una forma de medida, pero seguiremos implementando funciones puras, con recursividad de cola.\n",
    "\n",
    "En la siguiente parte esta implementado el código:"
   ]
  },
  {
   "cell_type": "code",
   "execution_count": null,
   "metadata": {},
   "outputs": [],
   "source": [
    "def finIt(n:Int):Int = {\n",
    "    var sum1 = 0\n",
    "    var sum2 = 1\n",
    "    var i = 0\n",
    "    while (i < n) {\n",
    "        var tmp = sum2\n",
    "        sum2 = sum1 + sum2\n",
    "        sum1 = tmp\n",
    "        i += 1\n",
    "    }\n",
    "    sum1\n",
    "}\n",
    "\n",
    "finIt(0)\n",
    "finIt(1)\n",
    "finIt(2)\n",
    "finIt(3)\n",
    "finIt(4)\n",
    "finIt(5)"
   ]
  },
  {
   "cell_type": "markdown",
   "metadata": {},
   "source": [
    "Ahora implementemos la función recursiva de Fibonacci llamada `fibRec` observemos que podemos partir de los casos bases que son dos: `0` y `1`, cuyos resultados son: `0` y `1`respectivamente; podemos comenzar a definir nuestra función recursiva, que en el caso recursivo es la suma de la función de `fibRec` de los dos valores anteriores.\n",
    "\n",
    "Con esta información podemos implementar dicha función y ver que se obtiene los mismos resultados de la función iteractiva."
   ]
  },
  {
   "cell_type": "code",
   "execution_count": null,
   "metadata": {},
   "outputs": [],
   "source": [
    "def finRec(n:Int):Int = ???\n",
    "\n",
    "fibRec(0)\n",
    "finRec(1)\n",
    "finRec(2)\n",
    "finRec(3)\n",
    "finRec(4)\n",
    "finRec(5)"
   ]
  },
  {
   "cell_type": "markdown",
   "metadata": {},
   "source": [
    "Pero que pasa con la efectividad, observamos que esta no se obtiene con dicha función, por que si implementamos una función llamada `compararFib`, comparando los valores de la función `fibRec` con respecto a la función `fibIt`, veremos que la primera tiene tiempos de ejecución muy altos y esto se debe que muchos casos algunos valores de la recursividad son llamadados más de una vez lo que hará que la función `fibRec` es una función muy costosa con respecto a la primera implementación.\n",
    "\n",
    "Implementemos la función `compararFib` que siga la firma siguiente:\n",
    "\n",
    "```{.scala}\n",
    "def compararFib(n:Int):Double = ???\n",
    "```\n",
    "\n",
    "Donde el valor `n`es el que se va utilizara ejecutar ambas funciones (`fibRec` y `fibIt`) y se van observar los tiempos de ejecución de cada función y se va a encontrar la proporción de ganancia de la primera función con respecto a la segunda. Implemente la función y observe la diferencia de ejecución de las dos funciones."
   ]
  },
  {
   "cell_type": "code",
   "execution_count": null,
   "metadata": {},
   "outputs": [],
   "source": [
    "def compararFib(n:Int):Double = ???\n",
    "\n",
    "compararFib(0)\n",
    "compararFib(1)\n",
    "compararFib(2)\n",
    "compararFib(3)\n",
    "compararFib(4)\n",
    "compararFib(5)"
   ]
  },
  {
   "cell_type": "markdown",
   "metadata": {},
   "source": [
    "Se observa que la función de Fibonacci implementada de forma recursiva es muy costosa, con respecta a tiempo y espacio. Pero vamos a utilizar la técnica de la recursividad de cola dentro de esta función y lo podemos obtener observando como funciona en la función iteractiva los valores de `suma1` y `suma2`. Esto lo podemos simular considerando la siguiente firma para nuestra función recursiva de cola (`fibRecCola`):\n",
    "\n",
    "```{.scala}\n",
    "def fibRecCola(n:Int):Int = ???\n",
    "```\n",
    "\n",
    "Pero esta función requiere de una función inmersa, esa función tiene el objetivo de llevar un acumulador que mantiene el valor actual de la secuencia de Fibonacci, pero debemos observar algo que se encuentra en la función iterativa, se tiene realmente dos sumadores, entonces como lo podemos manejar, utilizando [tuplas en Scala](https://docs.scala-lang.org/tour/tuples.html). En este caso el primer elemento es la `suma1` y el segundo elemento es `suma2` y cuando se llega al caso base se retorna el valor acumulador y en la parte recursiva se suman los valores de la tupla. Dicha función queda la función:\n",
    "\n",
    "```{.scala}\n",
    "def iFibRecCola(n:Int, t:(Int,Int)):Int = ???\n",
    "```\n",
    "\n",
    "Implemente la función `fibRecCola` utilizando la función inmersa `iFibRecCola`."
   ]
  },
  {
   "cell_type": "code",
   "execution_count": null,
   "metadata": {},
   "outputs": [],
   "source": [
    "def fibRecCola(n:Int):Int = ???\n",
    "\n",
    "fibRecCola(0)\n",
    "fibRecCola(1)\n",
    "fibRecCola(2)\n",
    "fibRecCola(3)\n",
    "fibRecCola(4)\n",
    "fibRecCola(5)"
   ]
  },
  {
   "cell_type": "markdown",
   "metadata": {},
   "source": [
    "Ahora implemente una función `compararFib2` donde se comparen los tiempos de ejecución entre la función `fibRecCola` y la función `fibIt`."
   ]
  },
  {
   "cell_type": "code",
   "execution_count": null,
   "metadata": {},
   "outputs": [],
   "source": [
    "def compararFib2 = ???\n",
    "\n",
    "compararFib2(0)\n",
    "compararFib2(1)\n",
    "compararFib2(2)\n",
    "compararFib2(3)\n",
    "compararFib2(4)\n",
    "compararFib2(5)"
   ]
  },
  {
   "cell_type": "markdown",
   "metadata": {},
   "source": [
    "Una vez comparada las funciones, responda.\n",
    "\n",
    "1. ¿Qué función se acerca más al funcionamiento de la función iterativa?\n",
    "2. ¿Qué tiempos de ejecución se acercan a la función iteractiva?\n",
    "3. ¿Las función con recursividad de cola es tan compacta y directa como la función recursiva original?"
   ]
  }
 ],
 "metadata": {
  "kernelspec": {
   "display_name": "Scala",
   "language": "scala",
   "name": "scala"
  },
  "language_info": {
   "codemirror_mode": "text/x-scala",
   "file_extension": ".sc",
   "mimetype": "text/x-scala",
   "name": "scala",
   "nbconvert_exporter": "script",
   "version": "2.13.3"
  }
 },
 "nbformat": 4,
 "nbformat_minor": 4
}

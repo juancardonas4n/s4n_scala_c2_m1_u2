{
 "cells": [
  {
   "cell_type": "markdown",
   "metadata": {},
   "source": [
    "# Revisando la eficiencia de las funciones recursivas versus funciones iterativas\n",
    "\n",
    "## Función de `potencia`\n",
    "\n",
    "La función de potencia implementada en la unidad anterior nos muestra la forma de diseñar aplicaciones utilizando la recursividad como guía para nuestro diseño, como se puede ver a continuación:"
   ]
  },
  {
   "cell_type": "code",
   "execution_count": 5,
   "metadata": {},
   "outputs": [
    {
     "data": {
      "text/plain": [
       "defined \u001b[32mfunction\u001b[39m \u001b[36mpotenciaRec\u001b[39m\n",
       "\u001b[36mres4_1\u001b[39m: \u001b[32mDouble\u001b[39m = \u001b[32m8.0\u001b[39m"
      ]
     },
     "execution_count": 5,
     "metadata": {},
     "output_type": "execute_result"
    }
   ],
   "source": [
    "def potenciaRec(a:Double, n:Int):Double = n match {\n",
    "    case 0 => 1\n",
    "    case n => a * potenciaRec(a, n - 1)\n",
    "}\n",
    "\n",
    "potenciaRec(2,3)"
   ]
  },
  {
   "cell_type": "markdown",
   "metadata": {},
   "source": [
    "Se observa que la ejecución de `potenciaRec(2,3)` obtiene el resultado esperado. \n",
    "\n",
    "La recursividad tiene muchas ventajas, cómo permitir que se tenga un código más compacto y auto-explicativo de lo que hace la función de potencia.\n",
    "\n",
    "Pero, a pesar de estas y otras muchas más ventajas, cuando aparecieron los primeros lenguajes funcionales como [Lisp](https://en.wikipedia.org/wiki/Lisp_(programming_language)), estos fueron dejados de lado por que los lenguajes de programación imperativos del momento: [Fortran](https://en.wikipedia.org/wiki/Fortran), [ALGOL](https://en.wikipedia.org/wiki/ALGOL) y aún hasta [COBOL](https://en.wikipedia.org/wiki/COBOL).\n",
    "\n",
    "Scala, no es un lenguaje puro, trae lo mejor de dos mundos (objetual y funcional), por ello podemos implementar una versión iterativa del programa, utilizando ciclos:"
   ]
  },
  {
   "cell_type": "code",
   "execution_count": 6,
   "metadata": {},
   "outputs": [
    {
     "data": {
      "text/plain": [
       "defined \u001b[32mfunction\u001b[39m \u001b[36mpotenciaIt\u001b[39m\n",
       "\u001b[36mres5_1\u001b[39m: \u001b[32mDouble\u001b[39m = \u001b[32m8.0\u001b[39m"
      ]
     },
     "execution_count": 6,
     "metadata": {},
     "output_type": "execute_result"
    }
   ],
   "source": [
    "def potenciaIt(a:Double, n:Int) = {\n",
    "    var i = 0\n",
    "    var res = 1.0\n",
    "    while (i < n) {\n",
    "        res *= a\n",
    "        i += 1\n",
    "    }\n",
    "    res\n",
    "}\n",
    "\n",
    "potenciaIt(2,3)"
   ]
  },
  {
   "cell_type": "markdown",
   "metadata": {},
   "source": [
    "Vamos a mirar las diferencias de tiempo entre ambas funciones (`potenciaRec` y `potenciaIt`), para ellos vamos a utilizar la manera de obtener el valor en nano segundos a través del método `System.nanoTime`, como se muestra en el siguiente código."
   ]
  },
  {
   "cell_type": "code",
   "execution_count": null,
   "metadata": {},
   "outputs": [],
   "source": [
    "val tInicioRec = System.nanoTime\n",
    "potenciaRec(2,3)\n",
    "val totalTiempoRec = System.nanoTime - tInicioRec\n",
    "println(s\"Tiempo transcurrido: $totalTiempoRec\")"
   ]
  },
  {
   "cell_type": "markdown",
   "metadata": {},
   "source": [
    "Realice lo mismo con la función `potenciaIt`, que compute `tInicioIt` y `totalTiempoIt`. Observe el comportamiento de la función `potenciaIt`."
   ]
  },
  {
   "cell_type": "code",
   "execution_count": null,
   "metadata": {},
   "outputs": [],
   "source": [
    "// Escriba aquí su código."
   ]
  },
  {
   "cell_type": "markdown",
   "metadata": {},
   "source": [
    "Se observa que hay diferencia en los tiempos de ejecución entre la implementación iteractiva (`potenciaIt`) y la implementación recursiva (`potenciaRec`). \n",
    "\n",
    "Ahora busquemos generalizar dicho comportamiento creando una función llamada `compararPotencia` que tiene la siguiente firma:\n",
    "```{.scala}\n",
    "def compararPotencia(a:Double, n:Int):Double = ???\n",
    "```\n",
    "Esta función toma dos parámetros `a`y `n`, ejecuta con estos valores las funciones: `potenciaRec` y `potenciaIt` obtiendo sus tiempo total y dividiendo el valor del primero por el segundo para obtener el porcentaje de crecimiento. Si este es mayor a `1.0` la función recursiva es más lenta que la función iteractiva, en caso contrario hay un mejor tiempo en el uso de la función recursiva. **Nota:** tenga en cuenta que los resultados de la función `System.nanoTime` son valores de tipo `Long`, al hacer la división realice la conversión de los operando: numerador y denominador a `Double` utilizando el método `toDouble` en alguno de ellos, para obtener la precisión deseada."
   ]
  },
  {
   "cell_type": "code",
   "execution_count": null,
   "metadata": {},
   "outputs": [],
   "source": [
    "def compararPotencia(a:Double, n:Int):Double = ???"
   ]
  },
  {
   "cell_type": "markdown",
   "metadata": {},
   "source": [
    "Utilice la función de  `compararPotencia` y invocándola an varias veces con diferentes valores `a` y `n`; observando en cada ejecución (invocación) el valor retornado que comparación del tiempo de ejecución de la función recursiva sobre el tiempo de ejecución iteractiva, esto nos muestra que pasa con los tiempos de ambas funciones.\n",
    "\n",
    "¿Qué podríamos concluir?"
   ]
  },
  {
   "cell_type": "code",
   "execution_count": 14,
   "metadata": {},
   "outputs": [],
   "source": [
    "// Ejecute varias veces la función compararPotencia con diferentes a y"
   ]
  },
  {
   "cell_type": "markdown",
   "metadata": {},
   "source": [
    "Ahora pruebe que pasa si ejecuta ambas funciones con los siguientes valores `a = 2` y `n = 100000`. ¿Qué resultados se obtiene?"
   ]
  },
  {
   "cell_type": "code",
   "execution_count": null,
   "metadata": {},
   "outputs": [],
   "source": [
    "// Ejecute ambas funciones con los valores a = 2 y n = 100000"
   ]
  }
 ],
 "metadata": {
  "kernelspec": {
   "display_name": "Scala",
   "language": "scala",
   "name": "scala"
  },
  "language_info": {
   "codemirror_mode": "text/x-scala",
   "file_extension": ".sc",
   "mimetype": "text/x-scala",
   "name": "scala",
   "nbconvert_exporter": "script",
   "version": "2.13.3"
  }
 },
 "nbformat": 4,
 "nbformat_minor": 4
}

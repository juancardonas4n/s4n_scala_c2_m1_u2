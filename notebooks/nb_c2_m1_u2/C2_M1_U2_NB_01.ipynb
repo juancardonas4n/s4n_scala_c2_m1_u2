{
 "cells": [
  {
   "cell_type": "markdown",
   "metadata": {},
   "source": [
    "# \n",
    "\n",
    "## Función de `potencia`\n",
    "\n",
    "La función de potencia implementada en la unidad anterior nos muestra la forma de diseñar aplicaciones utilizando la recursividad como guía para nuestro diseño, como se puede ver a continuación:"
   ]
  },
  {
   "cell_type": "code",
   "execution_count": 1,
   "metadata": {},
   "outputs": [
    {
     "data": {
      "text/plain": [
       "defined \u001b[32mfunction\u001b[39m \u001b[36mpotencia\u001b[39m\n",
       "\u001b[36mres0_1\u001b[39m: \u001b[32mDouble\u001b[39m = \u001b[32m8.0\u001b[39m"
      ]
     },
     "execution_count": 1,
     "metadata": {},
     "output_type": "execute_result"
    }
   ],
   "source": [
    "def potencia(a:Double, n:Int):Double = n match {\n",
    "    case 0 => 1\n",
    "    case n => a * potencia(a, n - 1)\n",
    "}\n",
    "\n",
    "potencia(2,3)"
   ]
  },
  {
   "cell_type": "markdown",
   "metadata": {},
   "source": [
    "Se observa la ejecución de la misma que se obtiene el resultado esperado. La recursividad tiene muchas ventajas, cómo la de encontrar que la función recursiva misma puede ser utilizada en la programación funcional para determinar que nuestra función hace lo que la función de potencia requiere hacer. \n",
    "\n",
    "Pero, a pesar de estas y otras muchas más ventajas, cuando aparecieron los primeros lenguajes funcionales como  Lisp, estos fueron dejados de lado por que los lenguajes de programación imperativos del momento: FORTRAN, Algol y aún hasta COBOL tenían mejor desempeño. \n",
    "\n",
    "Scala, no es un lenguaje puro, trae lo mejor de dos mundos (objetual "
   ]
  }
 ],
 "metadata": {
  "kernelspec": {
   "display_name": "Scala",
   "language": "scala",
   "name": "scala"
  },
  "language_info": {
   "codemirror_mode": "text/x-scala",
   "file_extension": ".sc",
   "mimetype": "text/x-scala",
   "name": "scala",
   "nbconvert_exporter": "script",
   "version": "2.13.3"
  }
 },
 "nbformat": 4,
 "nbformat_minor": 4
}

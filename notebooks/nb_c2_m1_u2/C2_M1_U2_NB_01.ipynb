{
 "cells": [
  {
   "cell_type": "markdown",
   "metadata": {},
   "source": [
    "# Revisando la eficiencia de las funciones recursivas versus funciones iterativas\n",
    "\n",
    "## Función de `potencia`\n",
    "\n",
    "Recuerda la función de potencia implementada en la unidad anterior, esta te demostró como se diseñan aplicaciones recusivas. Miremos la siguiente implementación:"
   ]
  },
  {
   "cell_type": "code",
   "execution_count": null,
   "metadata": {},
   "outputs": [],
   "source": [
    "def potenciaRec(a:Double, n:Int):Double = n match {\n",
    "    case 0 => 1\n",
    "    case n => a * potenciaRec(a, n - 1)\n",
    "}\n",
    "\n",
    "potenciaRec(2,3)"
   ]
  },
  {
   "cell_type": "markdown",
   "metadata": {},
   "source": [
    "Si observas bien la ejecución de `potenciaRec(2,3)` obtiene el resultado esperado que es `8.0`. \n",
    "\n",
    "Recuerda que la recusividad tiene muchas ventajas las cuáles son: permitir que se tenga un código más compacto y auto-explicativo, lo que hace que la implementación de la función de potencia utilice la misma solución, pero con un conjunto más pequeño que el conjunto de entrada original.\n",
    "\n",
    "A pesar de esto, cuando aparecieron los primeros lenguajes funcionales como [Lisp](https://en.wikipedia.org/wiki/Lisp_(programming_language)), estos fueron dejados de lado porque los lenguajes de programación imperativos del momento ([Fortran](https://en.wikipedia.org/wiki/Fortran) etc.) ejecutaban estas operaciones eficientemente y rapidamente. \n",
    "\n",
    "[Scala](https://www.scala-lang.org/), no es un lenguaje puro (es un lenguaje múltiparadigma), trae lo mejor de dos mundos (objetual y funcional), por ello podemos implementar una versión iterativa del programa, utilizando ciclos:"
   ]
  },
  {
   "cell_type": "code",
   "execution_count": null,
   "metadata": {},
   "outputs": [],
   "source": [
    "def potenciaIt(a:Double, n:Int) = {\n",
    "    var i = 0\n",
    "    var res = 1.0\n",
    "    while (i < n) {\n",
    "        res *= a\n",
    "        i += 1\n",
    "    }\n",
    "    res\n",
    "}\n",
    "\n",
    "potenciaIt(2,3)"
   ]
  },
  {
   "cell_type": "markdown",
   "metadata": {},
   "source": [
    "Para compararar la diferencia de tiempo de una función  (`potenciaRec` o `potenciaIt`), necesitarás medir el tiempo de ejecución de la función, esto lo harás de forma precisa utilizando la función `System.nanoTime` que te permitirá obtener el tiempo en [nano segundos](https://es.wikipedia.org/wiki/Nanosegundo). \n",
    "\n",
    "El siguiente segmento de código te permite ver como utilizarás `System.nanoTime` para obtener el tiempo total de ejecución de una función como en este caso `potencia(2,3)`."
   ]
  },
  {
   "cell_type": "code",
   "execution_count": null,
   "metadata": {},
   "outputs": [],
   "source": [
    "val tInicioRec = System.nanoTime\n",
    "potenciaRec(2,3)\n",
    "val totalTiempoRec = System.nanoTime - tInicioRec\n",
    "println(s\"Tiempo transcurrido: $totalTiempoRec\")"
   ]
  },
  {
   "cell_type": "markdown",
   "metadata": {},
   "source": [
    "Implementa la anterior con la función `potenciaIt`, que compute `tInicioIt` y `totalTiempoIt`. Observa el comportamiento de la función `potenciaIt` con los mismos parámetros de la ejecución anterior y la diferencia de tiempo obtenida."
   ]
  },
  {
   "cell_type": "code",
   "execution_count": null,
   "metadata": {},
   "outputs": [],
   "source": [
    "// Escriba aquí su código."
   ]
  },
  {
   "cell_type": "markdown",
   "metadata": {},
   "source": [
    "Observa que hay diferencia en los tiempos de ejecución entre la implementación iterativa (`potenciaIt`) y la implementación recursiva (`potenciaRec`). \n",
    "\n",
    "Ahora, busca generalizar dicho comportamiento creando una función llamada `compararPotencia` que tiene la siguiente firma:\n",
    "\n",
    "```{.scala}\n",
    "def compararPotencia(a:Double, n:Int):Double = ???\n",
    "```\n",
    "\n",
    "Esta función toma dos parámetros `a`y `n`, ejecuta con estos valores las funciones: `potenciaRec` y `potenciaIt` obteniendo su tiempo total y dividiendo el valor del primero por el segundo, para obtener el porcentaje de crecimiento. Si este es mayor a `1.0` la función recursiva es más lenta que la función iterativa, en caso contrario hay un mejor tiempo en el uso de la función recursiva.\n",
    "\n",
    "**Nota:** Ten en cuenta que los resultados de la función `System.nanoTime` son valores de tipo `Long`, al hacer la división realice la conversión de los operando: numerador y denominador a `Double` utilizando el método `toDouble` en alguno de ellos, para que obtengas la precisión deseada."
   ]
  },
  {
   "cell_type": "code",
   "execution_count": null,
   "metadata": {},
   "outputs": [],
   "source": [
    "def compararPotencia(a:Double, n:Int):Double = ???"
   ]
  },
  {
   "cell_type": "markdown",
   "metadata": {},
   "source": [
    "Utiliza la función de  `compararPotencia`, invocándola  varias veces con diferentes valores `a` y `n`; observando en cada ejecución (invocación) la comparación de la implementación iterativa y la recursiva.\n",
    "\n",
    "¿Qué podrías concluir?"
   ]
  },
  {
   "cell_type": "code",
   "execution_count": null,
   "metadata": {},
   "outputs": [],
   "source": [
    "// Ejecuta varias veces la función compararPotencia con diferentes valores de a y n"
   ]
  },
  {
   "cell_type": "markdown",
   "metadata": {},
   "source": [
    "Ahora prueba qué pasa si se ejecutan ambas funciones (`potenciaIt` y `potenciaRec`) con los siguientes valores: `a = 2` y `n = 100000`. ¿Qué resultados se obtienen?"
   ]
  },
  {
   "cell_type": "code",
   "execution_count": null,
   "metadata": {},
   "outputs": [],
   "source": [
    "// Ejecuta ambas funciones (potenciaIt y potenciaRec) con los valores a = 2 y n = 100000\n",
    "potenciaRec(2,100000)"
   ]
  },
  {
   "cell_type": "markdown",
   "metadata": {},
   "source": [
    "¿Cuál de las dos funciones es más precisa en este caso particular?\n",
    "\n",
    "[//]: # \"TODO: Añadir el plugin de ejercicio en nbextension aquí\" "
   ]
  }
 ],
 "metadata": {
  "kernelspec": {
   "display_name": "Scala",
   "language": "scala",
   "name": "scala"
  },
  "language_info": {
   "codemirror_mode": "text/x-scala",
   "file_extension": ".sc",
   "mimetype": "text/x-scala",
   "name": "scala",
   "nbconvert_exporter": "script",
   "version": "2.13.3"
  }
 },
 "nbformat": 4,
 "nbformat_minor": 4
}

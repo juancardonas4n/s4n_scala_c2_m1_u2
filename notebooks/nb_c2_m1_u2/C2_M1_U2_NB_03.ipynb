{
 "cells": [
  {
   "cell_type": "markdown",
   "metadata": {},
   "source": [
    "# Ejercicios de recursividad de cola\n",
    "\n",
    "La mayoría de los ejercicios de este *notebook* requeriran del uso de la anotación ```@tailrec```. Para que esta anotación funcione se debe utilizar un nombre largo:\n",
    "\n",
    "```{.scala}\n",
    "@scala.annotation.tailrec\n",
    "```\n",
    "Así que recuerde añadirla a las programas con recursividad de cola.\n",
    "\n",
    "También si requiere del uso de alguna función matemática como es el caso ```scala.math.abs``` se debe ejecutar la siguiente celda."
   ]
  },
  {
   "cell_type": "code",
   "execution_count": null,
   "metadata": {},
   "outputs": [],
   "source": [
    "val abs = (n:Int) => scala.math.abs(n)"
   ]
  },
  {
   "cell_type": "markdown",
   "metadata": {},
   "source": [
    "## Ejercicio 1: `factorial`\n",
    "\n",
    "Implementa la función de `factorial` de forma que la original que tenemos aquí sea reescrita complemente con recursividad de cola."
   ]
  },
  {
   "cell_type": "code",
   "execution_count": null,
   "metadata": {
    "solution2": "hidden",
    "solution2_first": true
   },
   "outputs": [],
   "source": [
    "def factorial(n:Int):Int = n match {\n",
    "    case 0 => 1\n",
    "    case n => n * factorial(n - 1)\n",
    "}"
   ]
  },
  {
   "cell_type": "code",
   "execution_count": null,
   "metadata": {
    "solution2": "hidden"
   },
   "outputs": [],
   "source": [
    "def factorial(n:Int):Int = {\n",
    "    @scala.annotation.tailrec\n",
    "    def iFactorial(n:Int, prod:Int):Int = n match {\n",
    "        case 0 => prod\n",
    "        case n => iFactorial(n - 1, n * prod)\n",
    "    }\n",
    "    iFactorial(n,1)\n",
    "}"
   ]
  },
  {
   "cell_type": "markdown",
   "metadata": {
    "solution2": "hidden"
   },
   "source": [
    "### Solución \n",
    "\n",
    "[Solución ejercicio 1. (`factorial`)](https://youtu.be/xaQqLZ6XdA0?t=65)\n",
    "\n",
    "[//]: # \"TODO: La solución solo debe aparecer si ellos hicieron algo, revisar plugins\""
   ]
  },
  {
   "cell_type": "markdown",
   "metadata": {},
   "source": [
    "## Ejercicio 2:  `sumRec`\n",
    "\n",
    "Implementar la función de `sumRec` de forma que la original que tenemos aquí sea reescrita completamente con recursividad de cola."
   ]
  },
  {
   "cell_type": "code",
   "execution_count": null,
   "metadata": {
    "solution2": "hidden",
    "solution2_first": true
   },
   "outputs": [],
   "source": [
    "def incr(n:Int) = n + 1\n",
    "def decr(n:Int) = n - 1\n",
    "\n",
    "def sumRec(a:Int,b:Int):Int = (a,b) match {\n",
    "    case (a,0) => a\n",
    "    case (0,b) => b\n",
    "    case (a,b) => sumRec(incr(a),decr(b))\n",
    "}\n",
    "\n",
    "sumRec(10,11)"
   ]
  },
  {
   "cell_type": "code",
   "execution_count": null,
   "metadata": {
    "solution2": "hidden"
   },
   "outputs": [],
   "source": [
    "def incr(n:Int) = n + 1\n",
    "def decr(n:Int) = n - 1\n",
    "\n",
    "@scala.annotation.tailrec\n",
    "def sumRec(a:Int,b:Int):Int = (a,b) match {\n",
    "    case (a,0) => a\n",
    "    case (0,b) => b\n",
    "    case (a,b) => sumRec(incr(a),decr(b))\n",
    "}\n",
    "\n",
    "sumRec(10,11)"
   ]
  },
  {
   "cell_type": "markdown",
   "metadata": {
    "solution2": "hidden"
   },
   "source": [
    "### Solución\n",
    "\n",
    "[Solución ejercicio 2. `sumRec`](https://youtu.be/xaQqLZ6XdA0?t=162)"
   ]
  },
  {
   "cell_type": "markdown",
   "metadata": {},
   "source": [
    "## Ejercicio 3: `int2StringBase`\n",
    "\n",
    "Reescriba la siguiente funcion `int2StringBase` de forma que la nueva versión tenga recursividad de cola"
   ]
  },
  {
   "cell_type": "code",
   "execution_count": null,
   "metadata": {
    "solution2": "hidden",
    "solution2_first": true
   },
   "outputs": [],
   "source": [
    "def int2String(i:Int):List[Char] = {\n",
    "  def iInt2String(i:Int):List[Char] = {\n",
    "    if (i != 0) {\n",
    "      val d = i % 10\n",
    "      val c = (d + '0').toChar\n",
    "      iInt2String(i / 10) :+ c\n",
    "    }\n",
    "    else List()\n",
    "  }\n",
    "  if (i == 0) List('0')\n",
    "  else if (i < 0) '-' +: iInt2String(abs(i))\n",
    "  else iInt2String(i)\n",
    "}"
   ]
  },
  {
   "cell_type": "code",
   "execution_count": null,
   "metadata": {
    "solution2": "hidden"
   },
   "outputs": [],
   "source": [
    "def int2String(i:Int):List[Char] = {\n",
    "  @scala.annotation.tailrec\n",
    "  def iInt2String(i:Int,r:List[Char]):List[Char] = {\n",
    "    if (i != 0) {\n",
    "      val d = i % 10\n",
    "      val c = (d + '0').toChar\n",
    "      iInt2String(i / 10, c +: r)\n",
    "    }\n",
    "    else r\n",
    "  }\n",
    "  if (i == 0) List('0')\n",
    "  else if (i < 0) '-' +: iInt2String(abs(i),List())\n",
    "  else iInt2String(i,List())\n",
    "}"
   ]
  },
  {
   "cell_type": "markdown",
   "metadata": {
    "solution2": "hidden"
   },
   "source": [
    "### Solución\n",
    "\n",
    "[Solución ejercicio 3. `int2String`](https://youtu.be/xaQqLZ6XdA0?t=236)"
   ]
  },
  {
   "cell_type": "markdown",
   "metadata": {},
   "source": [
    "## Ejercicio 4: `sumList`\n",
    "\n",
    "La siguiente implementación de `sumList` no tiene recursividad de cola, reescriba dicha función de forma que la nueva implementación tenga recursividad de cola."
   ]
  },
  {
   "cell_type": "code",
   "execution_count": null,
   "metadata": {
    "solution2": "hidden",
    "solution2_first": true
   },
   "outputs": [],
   "source": [
    "def sumList(lst:List[Int]):Int = {\n",
    "    if (lst.isEmpty) 0\n",
    "    else lst.head + sumList(lst.tail)\n",
    "}"
   ]
  },
  {
   "cell_type": "code",
   "execution_count": null,
   "metadata": {
    "solution2": "hidden"
   },
   "outputs": [],
   "source": [
    "def sumList(lst:List[Int]):Int = {\n",
    "    @scala.annotation.tailrec\n",
    "    def iSumList(lst:List[Int], acum:Int):Int = {\n",
    "        if (lst.isEmpty) acum\n",
    "        else iSumList(lst.tail, acum + lst.head)\n",
    "    }\n",
    "    iSumList(lst, 0)\n",
    "}"
   ]
  },
  {
   "cell_type": "markdown",
   "metadata": {
    "solution2": "hidden"
   },
   "source": [
    "### Solución\n",
    "\n",
    "[Solución ejercicio 4. `sumList`](https://youtu.be/xaQqLZ6XdA0?t=323)"
   ]
  }
 ],
 "metadata": {
  "kernelspec": {
   "display_name": "Scala",
   "language": "scala",
   "name": "scala"
  },
  "language_info": {
   "codemirror_mode": "text/x-scala",
   "file_extension": ".sc",
   "mimetype": "text/x-scala",
   "name": "scala",
   "nbconvert_exporter": "script",
   "version": "2.13.3"
  }
 },
 "nbformat": 4,
 "nbformat_minor": 4
}

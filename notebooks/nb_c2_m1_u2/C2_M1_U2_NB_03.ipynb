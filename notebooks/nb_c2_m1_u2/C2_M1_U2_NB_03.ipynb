{
 "cells": [
  {
   "cell_type": "markdown",
   "metadata": {},
   "source": [
    "# Ejercicios de recursividad de cola\n",
    "\n",
    "## Ejercicio `factorial`\n",
    "\n",
    "Implementar la función de `factorial` de forma que la original que tenemos aquí sea reescrita complemente con recursividad de cola."
   ]
  },
  {
   "cell_type": "code",
   "execution_count": null,
   "metadata": {},
   "outputs": [],
   "source": [
    "def factorial(n:Int):Int = n match {\n",
    "    case 0 => 1\n",
    "    case n => n * factorial(n - 1)\n",
    "}"
   ]
  },
  {
   "cell_type": "markdown",
   "metadata": {},
   "source": [
    "## Ejercicio `sumRec`\n",
    "\n",
    "Implementar la función de `sumRec` de forma que la original que tenemos aquí sea reescrita completamente con recursividad de cola."
   ]
  },
  {
   "cell_type": "code",
   "execution_count": null,
   "metadata": {},
   "outputs": [],
   "source": [
    "def incr(n:Int) = n + 1\n",
    "def decr(n:Int) = n - 1\n",
    "\n",
    "def sumRec(a:Int,b:Int):Int = (a,b) match {\n",
    "    case (a,0) => a\n",
    "    case (0,b) => b\n",
    "    case (a,b) => sumRec(incr(a),decr(b))\n",
    "}\n",
    "\n",
    "sumRec(10,11)"
   ]
  },
  {
   "cell_type": "markdown",
   "metadata": {},
   "source": [
    "## Ejercicio `int2StringBase`\n",
    "\n",
    "Reescriba la siguiente funcion `int2StringBase` de forma que la nueva versión tenga recursividad de cola"
   ]
  },
  {
   "cell_type": "code",
   "execution_count": null,
   "metadata": {},
   "outputs": [],
   "source": [
    "import scala.math._\n",
    "def int2String(i:Int):List[Char] = {\n",
    "  def iInt2String(i:Int):List[Char] = {\n",
    "    if (i != 0) {\n",
    "      val d = i % 10\n",
    "      val c = (d + '0').toChar\n",
    "      iInt2String(i / 10) :+ c\n",
    "    }\n",
    "    else List()\n",
    "  }\n",
    "  if (i == 0) List('0')\n",
    "  else if (i < 0) '-' +: iInt2String(abs(i))\n",
    "  else iInt2String(i)\n",
    "}"
   ]
  },
  {
   "cell_type": "markdown",
   "metadata": {},
   "source": [
    "## Ejercicio `sumList`\n",
    "\n",
    "La siguiente es una función que toma una lista de enteros y obtiene la suma de sus elementos, podemos ver que el caso trivial es cuando la listas vacía y el caso recursivo en cualquier otro caso. La función es recursiva, pero esta no tiene recursividad de cola. Reescriba la función de forma que esta tenga recursividad de cola."
   ]
  },
  {
   "cell_type": "code",
   "execution_count": null,
   "metadata": {},
   "outputs": [],
   "source": [
    "def sumList(l:List[Int]):Int = {\n",
    "    if (l.empty()) 0\n",
    "    else l.head + sumList(l.tail)\n",
    "}"
   ]
  }
 ],
 "metadata": {
  "kernelspec": {
   "display_name": "Scala",
   "language": "scala",
   "name": "scala"
  },
  "language_info": {
   "codemirror_mode": "text/x-scala",
   "file_extension": ".sc",
   "mimetype": "text/x-scala",
   "name": "scala",
   "nbconvert_exporter": "script",
   "version": "2.13.3"
  }
 },
 "nbformat": 4,
 "nbformat_minor": 4
}
